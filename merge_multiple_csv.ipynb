{
  "nbformat": 4,
  "nbformat_minor": 0,
  "metadata": {
    "colab": {
      "name": "merge_multiple_csv.ipynb",
      "provenance": [],
      "authorship_tag": "ABX9TyOIRIfwuRtwlsn3QU6tcoRY",
      "include_colab_link": true
    },
    "kernelspec": {
      "name": "python3",
      "display_name": "Python 3"
    }
  },
  "cells": [
    {
      "cell_type": "markdown",
      "metadata": {
        "id": "view-in-github",
        "colab_type": "text"
      },
      "source": [
        "<a href=\"https://colab.research.google.com/github/chakitarora/compbio_utils/blob/master/merge_multiple_csv.ipynb\" target=\"_parent\"><img src=\"https://colab.research.google.com/assets/colab-badge.svg\" alt=\"Open In Colab\"/></a>"
      ]
    },
    {
      "cell_type": "code",
      "metadata": {
        "id": "vxJShbZHh8Wt",
        "colab_type": "code",
        "colab": {}
      },
      "source": [
        "#merge csv files in a folder into one csv\n",
        "import os\n",
        "import glob\n",
        "import pandas as pd\n",
        "os.chdir(\"/mydir/\")\n",
        "\n",
        "extension = 'csv'\n",
        "all_filenames = [i for i in glob.glob('*.{}'.format(extension))]\n",
        "combined_csv = pd.concat([pd.read_csv(f) for f in all_filenames ],axis=1) #1 for horizontal merge, 0 for vertical merge\n",
        "\n",
        "combined_csv.to_csv('/output.csv',index=None)"
      ],
      "execution_count": 0,
      "outputs": []
    }
  ]
}