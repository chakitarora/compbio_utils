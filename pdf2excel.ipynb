{
  "nbformat": 4,
  "nbformat_minor": 0,
  "metadata": {
    "colab": {
      "name": "pdf2excel.ipynb",
      "provenance": [],
      "authorship_tag": "ABX9TyOkZt4X75354P687huTfg27",
      "include_colab_link": true
    },
    "kernelspec": {
      "name": "python3",
      "display_name": "Python 3"
    }
  },
  "cells": [
    {
      "cell_type": "markdown",
      "metadata": {
        "id": "view-in-github",
        "colab_type": "text"
      },
      "source": [
        "<a href=\"https://colab.research.google.com/github/chakitarora/compbio_utils/blob/master/pdf2excel.ipynb\" target=\"_parent\"><img src=\"https://colab.research.google.com/assets/colab-badge.svg\" alt=\"Open In Colab\"/></a>"
      ]
    },
    {
      "cell_type": "code",
      "metadata": {
        "id": "twMxQjAht5Ss",
        "colab_type": "code",
        "colab": {}
      },
      "source": [
        "#easy to do this on google colab\n",
        "\n",
        "\n",
        "#!pip install -q tabula-py #install tabula-py \n",
        "\n",
        "import tabula\n",
        "#tabula.read_pdf(\"input.pdf\", pages=\"1-3\", stream=True)[0]\n",
        "#tabula.read_pdf(\"input.pdf\", output_format=\"csv\",pages=\"1-3\")\n",
        "\n",
        "tabula.convert_into(\"input.pdf\", \"output.csv\", output_format=\"csv\",pages=\"1-2,4\") #pages=\"all\"\n",
      ],
      "execution_count": 0,
      "outputs": []
    }
  ]
}
