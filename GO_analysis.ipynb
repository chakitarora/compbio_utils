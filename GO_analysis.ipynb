{
  "nbformat": 4,
  "nbformat_minor": 0,
  "metadata": {
    "colab": {
      "name": "GO_analysis.ipynb",
      "provenance": [],
      "authorship_tag": "ABX9TyMBA303rnShFAW6OyDmvvmi",
      "include_colab_link": true
    },
    "kernelspec": {
      "name": "python3",
      "display_name": "Python 3"
    }
  },
  "cells": [
    {
      "cell_type": "markdown",
      "metadata": {
        "id": "view-in-github",
        "colab_type": "text"
      },
      "source": [
        "<a href=\"https://colab.research.google.com/github/chakitarora/compbio_utils/blob/master/GO_analysis.ipynb\" target=\"_parent\"><img src=\"https://colab.research.google.com/assets/colab-badge.svg\" alt=\"Open In Colab\"/></a>"
      ]
    },
    {
      "cell_type": "code",
      "metadata": {
        "id": "bdMfyXYezWLF",
        "colab_type": "code",
        "colab": {}
      },
      "source": [
        "\n",
        "##############################################################\n",
        "## Requires requests module:\n",
        "## type \"python -m pip install requests\" in command line (win)\n",
        "## or terminal (mac/linux) to install the module\n",
        "##############################################################\n",
        "\n",
        "import requests \n",
        "import json\n",
        "import pandas as pd\n",
        "\n",
        "####################### INPUT HERE ############################\n",
        "\n",
        "cat='Function'                       #'PMID','Component','Process','Function','KEGG','Interpro'\n",
        "sp=9606                              # species NCBI identifier\n",
        "my_genes = ['BAK1', 'BCL2', 'BAX']   #Your genes\n",
        "p=0.05                               #p-value cutoff\n",
        "\n",
        "output_file='output'                 #output filename\n",
        "################################################################\n",
        "\n",
        "\n",
        "\n",
        "\n",
        "string_api_url = \"https://string-db.org/api\"\n",
        "output_format = \"json\"\n",
        "method = \"enrichment\"\n",
        "request_url = \"/\".join([string_api_url, output_format, method])\n",
        "params = {\n",
        "\n",
        "    \"identifiers\" : \"%0d\".join(my_genes), # your genes\n",
        "    \"species\" : sp, # species NCBI identifier \n",
        "\n",
        "}\n",
        "response = requests.post(request_url, data=params)\n",
        "data = json.loads(response.text)\n",
        "\n",
        "file1 = open(output_file+\".csv\",\"a\") \n",
        "file1.write(\",\".join(['category','term','number_of_genes','gene_names', 'fdr','p_value', 'description']))\n",
        "file1.write('\\n')\n",
        "\n",
        "for row in data:\n",
        "\n",
        "    term = row[\"term\"]\n",
        "    preferred_names = \"|\".join(row[\"preferredNames\"])\n",
        "    fdr = float(row[\"fdr\"])\n",
        "    p_value = float(row[\"p_value\"])\n",
        "    description = row[\"description\"]\n",
        "    category = row[\"category\"]\n",
        "    number_of_genes = int(row[\"number_of_genes\"])\n",
        "\n",
        "    if category == cat and p_value < p: #'PMID','Component','Process','Function','KEGG','Interpro'\n",
        "\n",
        "        ##print significant GO Process annotations\n",
        "        file1.write(\",\".join([category,term,str(number_of_genes),preferred_names, str(fdr),str(p_value), description]))\n",
        "        file1.write(\"\\n\")\n",
        "file1.close()\n",
        "        #print(\"\\t\".join([category,term, preferred_names, str(fdr), description])) #for printing everything"
      ],
      "execution_count": 0,
      "outputs": []
    }
  ]
}